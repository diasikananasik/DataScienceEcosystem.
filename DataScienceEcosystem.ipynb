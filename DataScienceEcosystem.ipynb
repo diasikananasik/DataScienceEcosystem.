{
 "cells": [
  {
   "cell_type": "markdown",
   "id": "103798c7-bc69-41b1-a910-a4613574825f",
   "metadata": {},
   "source": [
    "# Data Science Tools and Ecosystem"
   ]
  },
  {
   "cell_type": "markdown",
   "id": "5fa09ad2-b871-48ad-b48b-3f6293b9d490",
   "metadata": {},
   "source": [
    "In this notebook, Data Science Tools and Ecosystem are summarized."
   ]
  },
  {
   "cell_type": "markdown",
   "id": "69b1850c-8350-4dfc-b7c2-ceee72678d7e",
   "metadata": {},
   "source": [
    "**Objectives:**\n",
    "+ Describe the components of a Data Scientist's toolkit and list various tool categories.\n",
    "+ \n",
    "List examples of open-source tools used in data science\n",
    "+ \r\n",
    "Describe the relevant features of open-source tool\n",
    "+ .\r\n",
    "List examples of commercial and cloud-based data science tools.\n"
   ]
  },
  {
   "cell_type": "markdown",
   "id": "0489d90d-fe79-44aa-a19e-6c23234d201e",
   "metadata": {},
   "source": [
    "Some of the popular languages that Data Scientists use are:\n",
    "1. R\n",
    "2. Jilia\n",
    "3. Python"
   ]
  },
  {
   "cell_type": "markdown",
   "id": "88c644ac-3125-4042-9c74-d3539a042140",
   "metadata": {},
   "source": [
    "Some of the commonly used libraries used by Data Scientists include:\n",
    "1. NamPy\n",
    "2. Matplotlib\n",
    "3. Pandas"
   ]
  },
  {
   "cell_type": "markdown",
   "id": "9734568c-e392-4b37-b80a-e94826c9613a",
   "metadata": {},
   "source": [
    "|Data Science Tools|\n",
    "| -----------------| \n",
    "|RStudio|\n",
    "|Apache Spark|\n",
    "|TensorFlow|"
   ]
  },
  {
   "cell_type": "markdown",
   "id": "0972d381-3903-4830-8b26-66e4b1ed17fd",
   "metadata": {},
   "source": [
    "### Below are a few examples of evaluating arithmetic expressions in Python"
   ]
  },
  {
   "cell_type": "code",
   "execution_count": 18,
   "id": "6be1ce7b-42ce-4ed1-ab07-753a6728fe7b",
   "metadata": {},
   "outputs": [
    {
     "data": {
      "text/plain": [
       "17"
      ]
     },
     "execution_count": 18,
     "metadata": {},
     "output_type": "execute_result"
    }
   ],
   "source": [
    "# This a simple arithmetic expression to mutiply then add integers\n",
    "(3*4)+5"
   ]
  },
  {
   "cell_type": "code",
   "execution_count": 20,
   "id": "061d66c3-8325-4d0a-99bd-1cca91e67935",
   "metadata": {},
   "outputs": [
    {
     "data": {
      "text/plain": [
       "3.3333333333333335"
      ]
     },
     "execution_count": 20,
     "metadata": {},
     "output_type": "execute_result"
    }
   ],
   "source": [
    "# This will convert 200 minutes to hours by diving by 60\n",
    "200/60"
   ]
  },
  {
   "cell_type": "markdown",
   "id": "91c6049e-c417-424e-90d0-b9fb0424b1d3",
   "metadata": {},
   "source": [
    "## Author\n",
    "Diana Hlyshchuk"
   ]
  }
 ],
 "metadata": {
  "kernelspec": {
   "display_name": "Python 3 (ipykernel)",
   "language": "python",
   "name": "python3"
  },
  "language_info": {
   "codemirror_mode": {
    "name": "ipython",
    "version": 3
   },
   "file_extension": ".py",
   "mimetype": "text/x-python",
   "name": "python",
   "nbconvert_exporter": "python",
   "pygments_lexer": "ipython3",
   "version": "3.12.4"
  }
 },
 "nbformat": 4,
 "nbformat_minor": 5
}
